{
 "cells": [
  {
   "cell_type": "code",
   "execution_count": 1,
   "id": "3184387e",
   "metadata": {},
   "outputs": [],
   "source": [
    "# importing needed libraries for data \n",
    "import pandas as pd\n",
    "import matplotlib.pyplot  as plt\n",
    "import numpy as np\n",
    "import seaborn as sns"
   ]
  },
  {
   "cell_type": "code",
   "execution_count": 2,
   "id": "239dd76c",
   "metadata": {},
   "outputs": [
    {
     "data": {
      "text/html": [
       "<div>\n",
       "<style scoped>\n",
       "    .dataframe tbody tr th:only-of-type {\n",
       "        vertical-align: middle;\n",
       "    }\n",
       "\n",
       "    .dataframe tbody tr th {\n",
       "        vertical-align: top;\n",
       "    }\n",
       "\n",
       "    .dataframe thead th {\n",
       "        text-align: right;\n",
       "    }\n",
       "</style>\n",
       "<table border=\"1\" class=\"dataframe\">\n",
       "  <thead>\n",
       "    <tr style=\"text-align: right;\">\n",
       "      <th></th>\n",
       "      <th>date</th>\n",
       "      <th>Appliances</th>\n",
       "      <th>lights</th>\n",
       "      <th>T1</th>\n",
       "      <th>RH_1</th>\n",
       "      <th>T2</th>\n",
       "      <th>RH_2</th>\n",
       "      <th>T3</th>\n",
       "      <th>RH_3</th>\n",
       "      <th>T4</th>\n",
       "      <th>...</th>\n",
       "      <th>T9</th>\n",
       "      <th>RH_9</th>\n",
       "      <th>T_out</th>\n",
       "      <th>Press_mm_hg</th>\n",
       "      <th>RH_out</th>\n",
       "      <th>Windspeed</th>\n",
       "      <th>Visibility</th>\n",
       "      <th>Tdewpoint</th>\n",
       "      <th>rv1</th>\n",
       "      <th>rv2</th>\n",
       "    </tr>\n",
       "  </thead>\n",
       "  <tbody>\n",
       "    <tr>\n",
       "      <th>0</th>\n",
       "      <td>2016-01-11 17:00:00</td>\n",
       "      <td>60</td>\n",
       "      <td>30</td>\n",
       "      <td>19.89</td>\n",
       "      <td>47.596667</td>\n",
       "      <td>19.2</td>\n",
       "      <td>44.790000</td>\n",
       "      <td>19.79</td>\n",
       "      <td>44.730000</td>\n",
       "      <td>19.000000</td>\n",
       "      <td>...</td>\n",
       "      <td>17.033333</td>\n",
       "      <td>45.53</td>\n",
       "      <td>6.600000</td>\n",
       "      <td>733.5</td>\n",
       "      <td>92.0</td>\n",
       "      <td>7.000000</td>\n",
       "      <td>63.000000</td>\n",
       "      <td>5.3</td>\n",
       "      <td>13.275433</td>\n",
       "      <td>13.275433</td>\n",
       "    </tr>\n",
       "    <tr>\n",
       "      <th>1</th>\n",
       "      <td>2016-01-11 17:10:00</td>\n",
       "      <td>60</td>\n",
       "      <td>30</td>\n",
       "      <td>19.89</td>\n",
       "      <td>46.693333</td>\n",
       "      <td>19.2</td>\n",
       "      <td>44.722500</td>\n",
       "      <td>19.79</td>\n",
       "      <td>44.790000</td>\n",
       "      <td>19.000000</td>\n",
       "      <td>...</td>\n",
       "      <td>17.066667</td>\n",
       "      <td>45.56</td>\n",
       "      <td>6.483333</td>\n",
       "      <td>733.6</td>\n",
       "      <td>92.0</td>\n",
       "      <td>6.666667</td>\n",
       "      <td>59.166667</td>\n",
       "      <td>5.2</td>\n",
       "      <td>18.606195</td>\n",
       "      <td>18.606195</td>\n",
       "    </tr>\n",
       "    <tr>\n",
       "      <th>2</th>\n",
       "      <td>2016-01-11 17:20:00</td>\n",
       "      <td>50</td>\n",
       "      <td>30</td>\n",
       "      <td>19.89</td>\n",
       "      <td>46.300000</td>\n",
       "      <td>19.2</td>\n",
       "      <td>44.626667</td>\n",
       "      <td>19.79</td>\n",
       "      <td>44.933333</td>\n",
       "      <td>18.926667</td>\n",
       "      <td>...</td>\n",
       "      <td>17.000000</td>\n",
       "      <td>45.50</td>\n",
       "      <td>6.366667</td>\n",
       "      <td>733.7</td>\n",
       "      <td>92.0</td>\n",
       "      <td>6.333333</td>\n",
       "      <td>55.333333</td>\n",
       "      <td>5.1</td>\n",
       "      <td>28.642668</td>\n",
       "      <td>28.642668</td>\n",
       "    </tr>\n",
       "    <tr>\n",
       "      <th>3</th>\n",
       "      <td>2016-01-11 17:30:00</td>\n",
       "      <td>50</td>\n",
       "      <td>40</td>\n",
       "      <td>19.89</td>\n",
       "      <td>46.066667</td>\n",
       "      <td>19.2</td>\n",
       "      <td>44.590000</td>\n",
       "      <td>19.79</td>\n",
       "      <td>45.000000</td>\n",
       "      <td>18.890000</td>\n",
       "      <td>...</td>\n",
       "      <td>17.000000</td>\n",
       "      <td>45.40</td>\n",
       "      <td>6.250000</td>\n",
       "      <td>733.8</td>\n",
       "      <td>92.0</td>\n",
       "      <td>6.000000</td>\n",
       "      <td>51.500000</td>\n",
       "      <td>5.0</td>\n",
       "      <td>45.410389</td>\n",
       "      <td>45.410389</td>\n",
       "    </tr>\n",
       "    <tr>\n",
       "      <th>4</th>\n",
       "      <td>2016-01-11 17:40:00</td>\n",
       "      <td>60</td>\n",
       "      <td>40</td>\n",
       "      <td>19.89</td>\n",
       "      <td>46.333333</td>\n",
       "      <td>19.2</td>\n",
       "      <td>44.530000</td>\n",
       "      <td>19.79</td>\n",
       "      <td>45.000000</td>\n",
       "      <td>18.890000</td>\n",
       "      <td>...</td>\n",
       "      <td>17.000000</td>\n",
       "      <td>45.40</td>\n",
       "      <td>6.133333</td>\n",
       "      <td>733.9</td>\n",
       "      <td>92.0</td>\n",
       "      <td>5.666667</td>\n",
       "      <td>47.666667</td>\n",
       "      <td>4.9</td>\n",
       "      <td>10.084097</td>\n",
       "      <td>10.084097</td>\n",
       "    </tr>\n",
       "  </tbody>\n",
       "</table>\n",
       "<p>5 rows × 29 columns</p>\n",
       "</div>"
      ],
      "text/plain": [
       "                  date  Appliances  lights     T1       RH_1    T2       RH_2  \\\n",
       "0  2016-01-11 17:00:00          60      30  19.89  47.596667  19.2  44.790000   \n",
       "1  2016-01-11 17:10:00          60      30  19.89  46.693333  19.2  44.722500   \n",
       "2  2016-01-11 17:20:00          50      30  19.89  46.300000  19.2  44.626667   \n",
       "3  2016-01-11 17:30:00          50      40  19.89  46.066667  19.2  44.590000   \n",
       "4  2016-01-11 17:40:00          60      40  19.89  46.333333  19.2  44.530000   \n",
       "\n",
       "      T3       RH_3         T4  ...         T9   RH_9     T_out  Press_mm_hg  \\\n",
       "0  19.79  44.730000  19.000000  ...  17.033333  45.53  6.600000        733.5   \n",
       "1  19.79  44.790000  19.000000  ...  17.066667  45.56  6.483333        733.6   \n",
       "2  19.79  44.933333  18.926667  ...  17.000000  45.50  6.366667        733.7   \n",
       "3  19.79  45.000000  18.890000  ...  17.000000  45.40  6.250000        733.8   \n",
       "4  19.79  45.000000  18.890000  ...  17.000000  45.40  6.133333        733.9   \n",
       "\n",
       "   RH_out  Windspeed  Visibility  Tdewpoint        rv1        rv2  \n",
       "0    92.0   7.000000   63.000000        5.3  13.275433  13.275433  \n",
       "1    92.0   6.666667   59.166667        5.2  18.606195  18.606195  \n",
       "2    92.0   6.333333   55.333333        5.1  28.642668  28.642668  \n",
       "3    92.0   6.000000   51.500000        5.0  45.410389  45.410389  \n",
       "4    92.0   5.666667   47.666667        4.9  10.084097  10.084097  \n",
       "\n",
       "[5 rows x 29 columns]"
      ]
     },
     "execution_count": 2,
     "metadata": {},
     "output_type": "execute_result"
    }
   ],
   "source": [
    "# loading the dataset\n",
    "df = pd.read_csv(\"https://archive.ics.uci.edu/ml/machine-learning-databases/00374/energydata_complete.csv\")\n",
    "\n",
    "df = pd.DataFrame(df)\n",
    "df.head()"
   ]
  },
  {
   "cell_type": "markdown",
   "id": "50653e0b",
   "metadata": {},
   "source": [
    "Question 12\n",
    "\n",
    "From the dataset, fit a linear model on the relationship between the temperature in the living room in Celsius (x = T2) and the temperature outside the building (y = T6). What is the R^2 value in two d.p.?"
   ]
  },
  {
   "cell_type": "code",
   "execution_count": 3,
   "id": "0d38de23",
   "metadata": {},
   "outputs": [],
   "source": [
    "simple_linear_reg_df = df[['T2', 'T6']].sample(15, random_state=2)\n",
    "#simple_linear_reg_df"
   ]
  },
  {
   "cell_type": "code",
   "execution_count": 4,
   "id": "e9afb303",
   "metadata": {},
   "outputs": [
    {
     "data": {
      "image/png": "[encoded data removed]",
      "text/plain": [
       "<Figure size 432x288 with 1 Axes>"
      ]
     },
     "metadata": {
      "needs_background": "light"
     },
     "output_type": "display_data"
    }
   ],
   "source": [
    "sns.regplot(x='T2', y='T6', data=simple_linear_reg_df);"
   ]
  },
  {
   "cell_type": "code",
   "execution_count": 5,
   "id": "eb46d056",
   "metadata": {},
   "outputs": [
    {
     "data": {
      "text/plain": [
       "-46.24"
      ]
     },
     "execution_count": 5,
     "metadata": {},
     "output_type": "execute_result"
    }
   ],
   "source": [
    "from sklearn.metrics import r2_score\n",
    "x = simple_linear_reg_df['T2']\n",
    "y = simple_linear_reg_df['T6']\n",
    "r2_score = r2_score(x, y)\n",
    "round(r2_score, 2)"
   ]
  },
  {
   "cell_type": "markdown",
   "id": "4373c7dc",
   "metadata": {},
   "source": [
    "Question 13\n",
    "\n",
    "Normalize the dataset using the MinMaxScaler after removing the following columns: [“date”, “lights”]. The target variable is “Appliances”. Use a 70-30 train-test set split with a random state of 42 (for reproducibility). Run a multiple linear regression using the training set and evaluate your model on the test set. Answer the following questions:\n",
    "\n",
    "What is the Mean Absolute Error (in two decimal places)?"
   ]
  },
  {
   "cell_type": "code",
   "execution_count": 6,
   "id": "0906e641",
   "metadata": {},
   "outputs": [],
   "source": [
    "# Dropping the lights column and date column\n",
    "\n",
    "df.drop(['lights'], axis=1,inplace=True)\n",
    "df.drop(['date'], axis=1, inplace=True)"
   ]
  },
  {
   "cell_type": "code",
   "execution_count": 7,
   "id": "cb78f702",
   "metadata": {},
   "outputs": [],
   "source": [
    "#Applying MinMaxScaler to scale the features to normalize\n",
    "\n",
    "#importing the library\n",
    "from sklearn.preprocessing import MinMaxScaler\n",
    "\n",
    "#declaring the scaler and fit into the data\n",
    "scaler = MinMaxScaler()\n",
    "normalized_features = pd.DataFrame(scaler.fit_transform(df), columns=df.columns)"
   ]
  },
  {
   "cell_type": "code",
   "execution_count": 8,
   "id": "452c1908",
   "metadata": {},
   "outputs": [],
   "source": [
    "#Spliting the data into test and train dataset\n",
    "\n",
    "features = normalized_features.drop(['Appliances'], axis=1)\n",
    "target = normalized_features['Appliances']\n",
    "\n",
    "from sklearn.model_selection import train_test_split\n",
    "x_train, x_test, y_train, y_test = train_test_split(features, target, test_size = 0.3, random_state = 42)"
   ]
  },
  {
   "cell_type": "code",
   "execution_count": 9,
   "id": "6ad9470c",
   "metadata": {},
   "outputs": [],
   "source": [
    "# importing the linearregression model\n",
    "from sklearn.linear_model import LinearRegression\n",
    "linear_model = LinearRegression()\n",
    "\n",
    "# fitting the model to the training dataset\n",
    "linear_model.fit(x_train, y_train)\n",
    "\n",
    "# deriving the predictions\n",
    "predicted_values = linear_model.predict(x_test)"
   ]
  },
  {
   "cell_type": "code",
   "execution_count": 10,
   "id": "9e3fe1f8",
   "metadata": {},
   "outputs": [
    {
     "name": "stdout",
     "output_type": "stream",
     "text": [
      " The MEAN ABSOLUTE ERROR is 0.05\n"
     ]
    }
   ],
   "source": [
    "# Mean absolute error to 2 decimal places\n",
    "from sklearn.metrics import mean_absolute_error\n",
    "mae = mean_absolute_error(y_test, predicted_values)\n",
    "print(f' The MEAN ABSOLUTE ERROR is {round(mae, 2)}')"
   ]
  },
  {
   "cell_type": "markdown",
   "id": "be398538",
   "metadata": {},
   "source": [
    "Question 14\n",
    "\n",
    "What is the Residual Sum of Squares (in two decimal places)?"
   ]
  },
  {
   "cell_type": "code",
   "execution_count": 11,
   "id": "f0f64952",
   "metadata": {},
   "outputs": [
    {
     "name": "stdout",
     "output_type": "stream",
     "text": [
      " The RESIDUAL SUM OF SQUARES is 45.35\n"
     ]
    }
   ],
   "source": [
    "# Residual Sum of Squares to 2 decimal places\n",
    "import numpy as np\n",
    "rss = np.sum(np.square(y_test - predicted_values))\n",
    "print(f' The RESIDUAL SUM OF SQUARES is {round(rss, 2)}')"
   ]
  },
  {
   "cell_type": "markdown",
   "id": "8c96bb47",
   "metadata": {},
   "source": [
    "Question 15\n",
    "\n",
    "What is the Root Mean Squared Error (in three decimal places)?"
   ]
  },
  {
   "cell_type": "code",
   "execution_count": 13,
   "id": "17dfd4d6",
   "metadata": {},
   "outputs": [
    {
     "name": "stdout",
     "output_type": "stream",
     "text": [
      " The ROOT MEAN SQUARED ERROR is 0.088\n"
     ]
    }
   ],
   "source": [
    "# Root Mean Square Error to 3 decimal places\n",
    "from sklearn.metrics import  mean_squared_error\n",
    "rmse = np.sqrt(mean_squared_error(y_test, predicted_values))\n",
    "print(f' The ROOT MEAN SQUARED ERROR is {round(rmse, 3)}')"
   ]
  },
  {
   "cell_type": "markdown",
   "id": "72b37936",
   "metadata": {},
   "source": [
    "Question 16\n",
    "\n",
    "What is the Coefficient of Determination (in two decimal places)?"
   ]
  },
  {
   "cell_type": "code",
   "execution_count": 14,
   "id": "9bf0635a",
   "metadata": {},
   "outputs": [
    {
     "name": "stdout",
     "output_type": "stream",
     "text": [
      " The COEFFICIENT OF DETERMINATION is 0.15\n"
     ]
    }
   ],
   "source": [
    "# R-squared or coefficient of determination to 2 decimal places\n",
    "from sklearn.metrics import r2_score\n",
    "r2_score = r2_score(y_test, predicted_values)\n",
    "print(f' The COEFFICIENT OF DETERMINATION is {round(r2_score, 2)}')"
   ]
  },
  {
   "cell_type": "markdown",
   "id": "28028d65",
   "metadata": {},
   "source": [
    "Question 17\n",
    "\n",
    "Obtain the feature weights from your linear model above. Which features have the lowest and highest weights respectively?"
   ]
  },
  {
   "cell_type": "code",
   "execution_count": 23,
   "id": "b11bc278",
   "metadata": {},
   "outputs": [
    {
     "data": {
      "text/html": [
       "<div>\n",
       "<style scoped>\n",
       "    .dataframe tbody tr th:only-of-type {\n",
       "        vertical-align: middle;\n",
       "    }\n",
       "\n",
       "    .dataframe tbody tr th {\n",
       "        vertical-align: top;\n",
       "    }\n",
       "\n",
       "    .dataframe thead th {\n",
       "        text-align: right;\n",
       "    }\n",
       "</style>\n",
       "<table border=\"1\" class=\"dataframe\">\n",
       "  <thead>\n",
       "    <tr style=\"text-align: right;\">\n",
       "      <th></th>\n",
       "      <th>index</th>\n",
       "      <th>weights</th>\n",
       "    </tr>\n",
       "  </thead>\n",
       "  <tbody>\n",
       "    <tr>\n",
       "      <th>0</th>\n",
       "      <td>RH_2</td>\n",
       "      <td>-0.456698</td>\n",
       "    </tr>\n",
       "    <tr>\n",
       "      <th>1</th>\n",
       "      <td>T_out</td>\n",
       "      <td>-0.321860</td>\n",
       "    </tr>\n",
       "    <tr>\n",
       "      <th>2</th>\n",
       "      <td>T2</td>\n",
       "      <td>-0.236178</td>\n",
       "    </tr>\n",
       "    <tr>\n",
       "      <th>3</th>\n",
       "      <td>T9</td>\n",
       "      <td>-0.189941</td>\n",
       "    </tr>\n",
       "    <tr>\n",
       "      <th>4</th>\n",
       "      <td>RH_8</td>\n",
       "      <td>-0.157595</td>\n",
       "    </tr>\n",
       "    <tr>\n",
       "      <th>5</th>\n",
       "      <td>RH_out</td>\n",
       "      <td>-0.077671</td>\n",
       "    </tr>\n",
       "    <tr>\n",
       "      <th>6</th>\n",
       "      <td>RH_7</td>\n",
       "      <td>-0.044614</td>\n",
       "    </tr>\n",
       "    <tr>\n",
       "      <th>7</th>\n",
       "      <td>RH_9</td>\n",
       "      <td>-0.039800</td>\n",
       "    </tr>\n",
       "    <tr>\n",
       "      <th>8</th>\n",
       "      <td>T5</td>\n",
       "      <td>-0.015657</td>\n",
       "    </tr>\n",
       "    <tr>\n",
       "      <th>9</th>\n",
       "      <td>T1</td>\n",
       "      <td>-0.003281</td>\n",
       "    </tr>\n",
       "    <tr>\n",
       "      <th>10</th>\n",
       "      <td>rv1</td>\n",
       "      <td>0.000770</td>\n",
       "    </tr>\n",
       "    <tr>\n",
       "      <th>11</th>\n",
       "      <td>rv2</td>\n",
       "      <td>0.000770</td>\n",
       "    </tr>\n",
       "    <tr>\n",
       "      <th>12</th>\n",
       "      <td>Press_mm_hg</td>\n",
       "      <td>0.006839</td>\n",
       "    </tr>\n",
       "    <tr>\n",
       "      <th>13</th>\n",
       "      <td>T7</td>\n",
       "      <td>0.010319</td>\n",
       "    </tr>\n",
       "    <tr>\n",
       "      <th>14</th>\n",
       "      <td>Visibility</td>\n",
       "      <td>0.012307</td>\n",
       "    </tr>\n",
       "    <tr>\n",
       "      <th>15</th>\n",
       "      <td>RH_5</td>\n",
       "      <td>0.016006</td>\n",
       "    </tr>\n",
       "    <tr>\n",
       "      <th>16</th>\n",
       "      <td>RH_4</td>\n",
       "      <td>0.026386</td>\n",
       "    </tr>\n",
       "    <tr>\n",
       "      <th>17</th>\n",
       "      <td>T4</td>\n",
       "      <td>0.028981</td>\n",
       "    </tr>\n",
       "    <tr>\n",
       "      <th>18</th>\n",
       "      <td>Windspeed</td>\n",
       "      <td>0.029183</td>\n",
       "    </tr>\n",
       "    <tr>\n",
       "      <th>19</th>\n",
       "      <td>RH_6</td>\n",
       "      <td>0.038049</td>\n",
       "    </tr>\n",
       "    <tr>\n",
       "      <th>20</th>\n",
       "      <td>RH_3</td>\n",
       "      <td>0.096048</td>\n",
       "    </tr>\n",
       "    <tr>\n",
       "      <th>21</th>\n",
       "      <td>T8</td>\n",
       "      <td>0.101995</td>\n",
       "    </tr>\n",
       "    <tr>\n",
       "      <th>22</th>\n",
       "      <td>Tdewpoint</td>\n",
       "      <td>0.117758</td>\n",
       "    </tr>\n",
       "    <tr>\n",
       "      <th>23</th>\n",
       "      <td>T6</td>\n",
       "      <td>0.236425</td>\n",
       "    </tr>\n",
       "    <tr>\n",
       "      <th>24</th>\n",
       "      <td>T3</td>\n",
       "      <td>0.290627</td>\n",
       "    </tr>\n",
       "    <tr>\n",
       "      <th>25</th>\n",
       "      <td>RH_1</td>\n",
       "      <td>0.553547</td>\n",
       "    </tr>\n",
       "  </tbody>\n",
       "</table>\n",
       "</div>"
      ],
      "text/plain": [
       "          index   weights\n",
       "0          RH_2 -0.456698\n",
       "1         T_out -0.321860\n",
       "2            T2 -0.236178\n",
       "3            T9 -0.189941\n",
       "4          RH_8 -0.157595\n",
       "5        RH_out -0.077671\n",
       "6          RH_7 -0.044614\n",
       "7          RH_9 -0.039800\n",
       "8            T5 -0.015657\n",
       "9            T1 -0.003281\n",
       "10          rv1  0.000770\n",
       "11          rv2  0.000770\n",
       "12  Press_mm_hg  0.006839\n",
       "13           T7  0.010319\n",
       "14   Visibility  0.012307\n",
       "15         RH_5  0.016006\n",
       "16         RH_4  0.026386\n",
       "17           T4  0.028981\n",
       "18    Windspeed  0.029183\n",
       "19         RH_6  0.038049\n",
       "20         RH_3  0.096048\n",
       "21           T8  0.101995\n",
       "22    Tdewpoint  0.117758\n",
       "23           T6  0.236425\n",
       "24           T3  0.290627\n",
       "25         RH_1  0.553547"
      ]
     },
     "execution_count": 23,
     "metadata": {},
     "output_type": "execute_result"
    }
   ],
   "source": [
    "weights = pd.Series(linear_model.coef_, x_train.columns).sort_values()\n",
    "weights_df = pd.DataFrame(weights).reset_index()\n",
    "weights_df['weights'] = weights_df[0]\n",
    "weights_df.drop([0], axis=1,inplace=True)\n",
    "weights_df"
   ]
  },
  {
   "cell_type": "code",
   "execution_count": 29,
   "id": "0a688e59",
   "metadata": {},
   "outputs": [
    {
     "name": "stdout",
     "output_type": "stream",
     "text": [
      "-0.4566979483385004\n",
      "0.5535465998386391\n",
      " Hence the features that have the lowest and highest weights respectively are RH_1 and RH_2\n"
     ]
    }
   ],
   "source": [
    "print(weights_df['weights'].min())\n",
    "print(weights_df['weights'].max())\n",
    "\n",
    "print(f\" Hence the features that have the lowest and highest weights respectively are RH_1 and RH_2\")"
   ]
  },
  {
   "cell_type": "markdown",
   "id": "efbf070a",
   "metadata": {},
   "source": [
    "Question 18\n",
    "\n",
    "Train a ridge regression model with an alpha value of 0.4. Is there any change to the root mean squared error (RMSE) when evaluated on the test set?"
   ]
  },
  {
   "cell_type": "code",
   "execution_count": 41,
   "id": "07c40ac1",
   "metadata": {},
   "outputs": [
    {
     "name": "stdout",
     "output_type": "stream",
     "text": [
      " The ROOT MEAN SQUARED ERROR is 0.088\n"
     ]
    }
   ],
   "source": [
    "from sklearn.linear_model import Ridge\n",
    "ridge_reg = Ridge(alpha=0.4)\n",
    "ridge_reg.fit(x_train,y_train)\n",
    "y_ = ridge_reg.predict(x_test)\n",
    "rmse = np.sqrt(mean_squared_error(y_test, y_))\n",
    "print(f' The ROOT MEAN SQUARED ERROR is {round(rmse, 3)}')"
   ]
  },
  {
   "cell_type": "code",
   "execution_count": 43,
   "id": "475dabcb",
   "metadata": {},
   "outputs": [],
   "source": [
    "# Question 18 Answer\n",
    "#Hence, there is no change"
   ]
  },
  {
   "cell_type": "markdown",
   "id": "e036af04",
   "metadata": {},
   "source": [
    "Question 19\n",
    "\n",
    "Train a lasso regression model with an alpha value of 0.001 and obtain the new feature weights with it. How many of the features have non-zero feature weights?\n",
    "\n",
    "\n",
    "\n",
    "\n",
    "\n"
   ]
  },
  {
   "cell_type": "code",
   "execution_count": 31,
   "id": "68f211a1",
   "metadata": {},
   "outputs": [
    {
     "data": {
      "text/plain": [
       "Lasso(alpha=0.001)"
      ]
     },
     "execution_count": 31,
     "metadata": {},
     "output_type": "execute_result"
    }
   ],
   "source": [
    "from sklearn.linear_model import Lasso\n",
    "\n",
    "lasso_reg = Lasso(alpha=0.001)\n",
    "lasso_reg.fit(x_train, y_train)"
   ]
  },
  {
   "cell_type": "code",
   "execution_count": 37,
   "id": "cb9d0087",
   "metadata": {},
   "outputs": [
    {
     "name": "stdout",
     "output_type": "stream",
     "text": [
      "Features        26\n",
      "Lasso_weight    26\n",
      "dtype: int64\n",
      "Hence 26 features has non-zero\n"
     ]
    }
   ],
   "source": [
    "def get_weights_df(model, feat, col_name):\n",
    "    #this function returns the weight of every feature\n",
    "    weights = pd.Series(model.coef_, feat.columns).sort_values()\n",
    "    weights_df = pd.DataFrame(weights).reset_index()\n",
    "    weights_df.columns = ['Features', col_name]\n",
    "    weights_df[col_name].round(3)\n",
    "    return weights_df\n",
    "\n",
    "#ridge_weights_df = get_weights_df(ridge_reg, x_train, 'Ridge_Weight')\n",
    "lasso_weights_df = get_weights_df(lasso_reg, x_train, 'Lasso_weight')\n",
    "lasso_weights_df = pd.DataFrame(lasso_weights_df)\n",
    "print(lasso_weights_df.notnull().sum())\n",
    "print(f'Hence 26 features has non-zero')"
   ]
  },
  {
   "cell_type": "markdown",
   "id": "85bca7ed",
   "metadata": {},
   "source": [
    "Question 20\n",
    "\n",
    "What is the new RMSE with the lasso regression? (Answer should be in three (3) decimal places)"
   ]
  },
  {
   "cell_type": "code",
   "execution_count": 54,
   "id": "530568ef",
   "metadata": {},
   "outputs": [
    {
     "data": {
      "text/plain": [
       "0.09358170467245137"
      ]
     },
     "execution_count": 54,
     "metadata": {},
     "output_type": "execute_result"
    }
   ],
   "source": [
    "f_x = lasso_reg.predict(x_test) \n",
    "rmse = np.sqrt(mean_squared_error(y_test, f_x))\n",
    "rmse"
   ]
  },
  {
   "cell_type": "code",
   "execution_count": null,
   "id": "e781255a",
   "metadata": {},
   "outputs": [],
   "source": []
  }
 ],
 "metadata": {
  "kernelspec": {
   "display_name": "Python 3 (ipykernel)",
   "language": "python",
   "name": "python3"
  },
  "language_info": {
   "codemirror_mode": {
    "name": "ipython",
    "version": 3
   },
   "file_extension": ".py",
   "mimetype": "text/x-python",
   "name": "python",
   "nbconvert_exporter": "python",
   "pygments_lexer": "ipython3",
   "version": "3.9.7"
  }
 },
 "nbformat": 4,
 "nbformat_minor": 5
}
